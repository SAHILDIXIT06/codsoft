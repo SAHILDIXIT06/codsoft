{
 "cells": [
  {
   "cell_type": "code",
   "execution_count": 7,
   "id": "7ae13738-39ab-4f14-b712-011669ea3295",
   "metadata": {},
   "outputs": [
    {
     "name": "stdout",
     "output_type": "stream",
     "text": [
      "Accuracy: 0.7597765363128491\n"
     ]
    }
   ],
   "source": [
    "# 1. Import necessary libraries\n",
    "import pandas as pd                      # For data manipulation and analysis.\n",
    "import numpy as np                       # For numerical operations.\n",
    "from sklearn.tree import DecisionTreeClassifier  # The classification model.\n",
    "from sklearn.model_selection import train_test_split  # To split the dataset.\n",
    "from sklearn.metrics import accuracy_score         # To evaluate the model.\n",
    "\n",
    "# 2. Load the dataset using a raw string to avoid unicode escape issues.\n",
    "data = pd.read_csv(r\"C:\\Users\\Sahil\\Downloads\\Titanic-Dataset.csv\")\n",
    "\n",
    "# 3. Data Preprocessing\n",
    "\n",
    "# (a) Handle missing values:\n",
    "# Fill missing 'Age' values with the mean age. Notice we assign back to the column to avoid chained assignment.\n",
    "data['Age'] = data['Age'].fillna(data['Age'].mean())\n",
    "\n",
    "# For the 'Embarked' column, fill missing values with the most common port (here assumed as 'S')\n",
    "data['Embarked'] = data['Embarked'].fillna('S')\n",
    "\n",
    "# (b) Encode categorical variables:\n",
    "# Convert the 'Sex' column to numeric: male -> 0, female -> 1.\n",
    "data['Sex'] = data['Sex'].map({'male': 0, 'female': 1})\n",
    "\n",
    "# Convert the 'Embarked' column to numeric. Here we map: S -> 0, C -> 1, Q -> 2.\n",
    "data['Embarked'] = data['Embarked'].map({'S': 0, 'C': 1, 'Q': 2})\n",
    "\n",
    "# (c) Drop columns that are not useful for prediction:\n",
    "# For this example, we drop columns like 'Name', 'Ticket', and 'Cabin' because they contain non-numeric information.\n",
    "data = data.drop(['Name', 'Ticket', 'Cabin'], axis=1)\n",
    "\n",
    "# 4. Define Features and Target Variable:\n",
    "# We assume 'Survived' is our target variable. All other columns will be features.\n",
    "X = data.drop(['Survived'], axis=1)\n",
    "y = data['Survived']\n",
    "\n",
    "# 5. Split the dataset into training and testing sets:\n",
    "# We use 80% of the data for training and 20% for testing.\n",
    "X_train, X_test, y_train, y_test = train_test_split(X, y, test_size=0.2, random_state=42)\n",
    "\n",
    "# 6. Create and Train the Model:\n",
    "# Initialize the Decision Tree Classifier.\n",
    "model = DecisionTreeClassifier()\n",
    "\n",
    "# Fit the model on the training data.\n",
    "model.fit(X_train, y_train)\n",
    "\n",
    "# 7. Make Predictions and Evaluate the Model:\n",
    "# Use the trained model to predict survival on the test set.\n",
    "predictions = model.predict(X_test)\n",
    "\n",
    "# Calculate the accuracy score to evaluate model performance.\n",
    "accuracy = accuracy_score(y_test, predictions)\n",
    "print(\"Accuracy:\", accuracy)\n"
   ]
  },
  {
   "cell_type": "code",
   "execution_count": null,
   "id": "e45267d1-3599-4dc1-842b-2c001be10ec3",
   "metadata": {},
   "outputs": [],
   "source": []
  }
 ],
 "metadata": {
  "kernelspec": {
   "display_name": "Python 3 (ipykernel)",
   "language": "python",
   "name": "python3"
  },
  "language_info": {
   "codemirror_mode": {
    "name": "ipython",
    "version": 3
   },
   "file_extension": ".py",
   "mimetype": "text/x-python",
   "name": "python",
   "nbconvert_exporter": "python",
   "pygments_lexer": "ipython3",
   "version": "3.13.0"
  }
 },
 "nbformat": 4,
 "nbformat_minor": 5
}
