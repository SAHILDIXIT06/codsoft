{
 "cells": [
  {
   "cell_type": "code",
   "execution_count": 2,
   "id": "fd0a7e54-1fe9-4148-9915-8cca7a719a9d",
   "metadata": {},
   "outputs": [
    {
     "name": "stdout",
     "output_type": "stream",
     "text": [
      "Missing Values:\n",
      " sepal_length    0\n",
      "sepal_width     0\n",
      "petal_length    0\n",
      "petal_width     0\n",
      "species         0\n",
      "dtype: int64\n",
      "Duplicate Rows: 3\n",
      "Data Types:\n",
      " sepal_length    float64\n",
      "sepal_width     float64\n",
      "petal_length    float64\n",
      "petal_width     float64\n",
      "species          object\n",
      "dtype: object\n",
      "Model Accuracy: 0.9333333333333333\n",
      "                 precision    recall  f1-score   support\n",
      "\n",
      "    Iris-setosa       1.00      1.00      1.00        11\n",
      "Iris-versicolor       0.90      0.90      0.90        10\n",
      " Iris-virginica       0.89      0.89      0.89         9\n",
      "\n",
      "       accuracy                           0.93        30\n",
      "      macro avg       0.93      0.93      0.93        30\n",
      "   weighted avg       0.93      0.93      0.93        30\n",
      "\n"
     ]
    }
   ],
   "source": [
    "# Step 1: Import necessary libraries\n",
    "import pandas as pd\n",
    "from sklearn.model_selection import train_test_split\n",
    "from sklearn.tree import DecisionTreeClassifier\n",
    "from sklearn.metrics import accuracy_score, classification_report\n",
    "from sklearn.preprocessing import StandardScaler\n",
    "\n",
    "# Step 2: Load dataset\n",
    "df = pd.read_csv(r\"C:\\Users\\Sahil\\Downloads\\IRIS.csv\")\n",
    "\n",
    "# Step 3: Data Cleaning\n",
    "print(\"Missing Values:\\n\", df.isnull().sum())  # Check for missing values\n",
    "print(\"Duplicate Rows:\", df.duplicated().sum())  # Check for duplicates\n",
    "df = df.drop_duplicates()  # Remove duplicate rows if any\n",
    "print(\"Data Types:\\n\", df.dtypes)  # Check column data types\n",
    "\n",
    "# Step 4: Feature Selection by Column Name\n",
    "X = df[['sepal_length', 'sepal_width', 'petal_length', 'petal_width']]  # Features\n",
    "Y = df['species']  # Target variable\n",
    "\n",
    "# Step 5: Normalize the Data (Recommended)\n",
    "scaler = StandardScaler()\n",
    "X = scaler.fit_transform(X)  # Normalize feature values\n",
    "\n",
    "# Step 6: Split data into training and testing sets\n",
    "X_train, X_test, Y_train, Y_test = train_test_split(X, Y, test_size=0.2, random_state=42)\n",
    "\n",
    "# Step 7: Train the model\n",
    "model = DecisionTreeClassifier()  # Initialize model\n",
    "model.fit(X_train, Y_train)  # Train model\n",
    "\n",
    "# Step 8: Make predictions\n",
    "Y_pred = model.predict(X_test)\n",
    "\n",
    "# Step 9: Evaluate the model\n",
    "accuracy = accuracy_score(Y_test, Y_pred)\n",
    "print(\"Model Accuracy:\", accuracy)\n",
    "print(classification_report(Y_test, Y_pred))\n"
   ]
  },
  {
   "cell_type": "code",
   "execution_count": null,
   "id": "355b2b21-9276-4425-8c8c-d545ea912d65",
   "metadata": {},
   "outputs": [],
   "source": []
  }
 ],
 "metadata": {
  "kernelspec": {
   "display_name": "Python 3 (ipykernel)",
   "language": "python",
   "name": "python3"
  },
  "language_info": {
   "codemirror_mode": {
    "name": "ipython",
    "version": 3
   },
   "file_extension": ".py",
   "mimetype": "text/x-python",
   "name": "python",
   "nbconvert_exporter": "python",
   "pygments_lexer": "ipython3",
   "version": "3.13.0"
  }
 },
 "nbformat": 4,
 "nbformat_minor": 5
}
